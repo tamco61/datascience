{
 "cells": [
  {
   "cell_type": "markdown",
   "id": "515e798f",
   "metadata": {},
   "source": [
    "# Самостоятельное задание #4\n",
    "\n",
    "\n",
    "Дана строка: Lambdadambda\n",
    "    \n",
    "**Вывести третий символ этой строки.**"
   ]
  },
  {
   "cell_type": "code",
   "execution_count": 11,
   "id": "6fb0097c",
   "metadata": {},
   "outputs": [],
   "source": [
    "row = \"Lambdadambda\""
   ]
  },
  {
   "cell_type": "code",
   "execution_count": 10,
   "id": "7e563ce5",
   "metadata": {},
   "outputs": [
    {
     "name": "stdout",
     "output_type": "stream",
     "text": [
      "m\n"
     ]
    }
   ],
   "source": [
    "row = \"Lambdadambda\"\n",
    "print(row[2])"
   ]
  },
  {
   "cell_type": "markdown",
   "id": "ea010c5d",
   "metadata": {},
   "source": [
    "**Вывести предпоследний символ этой строки.**"
   ]
  },
  {
   "cell_type": "code",
   "execution_count": 9,
   "id": "31b0d3ed",
   "metadata": {},
   "outputs": [
    {
     "name": "stdout",
     "output_type": "stream",
     "text": [
      "d\n"
     ]
    }
   ],
   "source": [
    "row = \"Lambdadambda\"\n",
    "print(row[-2])"
   ]
  },
  {
   "cell_type": "markdown",
   "id": "e4e84e54",
   "metadata": {},
   "source": [
    "**Вывести первые пять символов этой строки.**"
   ]
  },
  {
   "cell_type": "code",
   "execution_count": 3,
   "id": "7e311943",
   "metadata": {},
   "outputs": [
    {
     "name": "stdout",
     "output_type": "stream",
     "text": [
      "Lambd\n"
     ]
    }
   ],
   "source": [
    "row = \"Lambdadambda\"\n",
    "print(row[:5])"
   ]
  },
  {
   "cell_type": "markdown",
   "id": "f6a3ba9c",
   "metadata": {},
   "source": [
    "**Вывести строку, кроме последних двух символов.**"
   ]
  },
  {
   "cell_type": "code",
   "execution_count": 2,
   "id": "e73c0b48",
   "metadata": {},
   "outputs": [
    {
     "name": "stdout",
     "output_type": "stream",
     "text": [
      "Lambdadamb\n"
     ]
    }
   ],
   "source": [
    "row = \"Lambdadambda\"\n",
    "print(row[:-2])"
   ]
  },
  {
   "cell_type": "markdown",
   "id": "0a4dfd22",
   "metadata": {},
   "source": [
    "**Вывести все символы с четными индексами (считайте, что 0 - четный индекс).**"
   ]
  },
  {
   "cell_type": "code",
   "execution_count": 4,
   "id": "c2562333",
   "metadata": {},
   "outputs": [
    {
     "name": "stdout",
     "output_type": "stream",
     "text": [
      "L\n",
      "m\n",
      "d\n",
      "d\n",
      "m\n",
      "d\n"
     ]
    }
   ],
   "source": [
    "row = \"Lambdadambda\"\n",
    "for i in range(0, len(row), 2):\n",
    "    print(row[i])"
   ]
  },
  {
   "cell_type": "markdown",
   "id": "d692f8e4",
   "metadata": {},
   "source": [
    "**Вывести все символы с нечетными индексами.**"
   ]
  },
  {
   "cell_type": "code",
   "execution_count": 8,
   "id": "4ee4c0c7",
   "metadata": {},
   "outputs": [
    {
     "name": "stdout",
     "output_type": "stream",
     "text": [
      "a\n",
      "b\n",
      "a\n",
      "a\n",
      "b\n",
      "a\n"
     ]
    }
   ],
   "source": [
    "row = \"Lambdadambda\"\n",
    "for i in range(1, len(row), 2):\n",
    "    print(row[i])"
   ]
  },
  {
   "cell_type": "markdown",
   "id": "dc19a22d",
   "metadata": {},
   "source": [
    "**Вывести все символы в обратном порядке.**"
   ]
  },
  {
   "cell_type": "code",
   "execution_count": 5,
   "id": "b791ac60",
   "metadata": {},
   "outputs": [
    {
     "name": "stdout",
     "output_type": "stream",
     "text": [
      "a\n",
      "d\n",
      "b\n",
      "m\n",
      "a\n",
      "d\n",
      "a\n",
      "d\n",
      "b\n",
      "m\n",
      "a\n",
      "L\n"
     ]
    }
   ],
   "source": [
    "row = \"Lambdadambda\"\n",
    "for i in range(len(row) - 1, -1, -1):\n",
    "    print(row[i])"
   ]
  },
  {
   "cell_type": "markdown",
   "id": "ddcab1ad",
   "metadata": {},
   "source": [
    "**Вывести все символы строки через один в обратном порядке, начиная с последнего.**"
   ]
  },
  {
   "cell_type": "code",
   "execution_count": 6,
   "id": "29f2787d",
   "metadata": {},
   "outputs": [
    {
     "name": "stdout",
     "output_type": "stream",
     "text": [
      "a\n",
      "b\n",
      "a\n",
      "a\n",
      "b\n",
      "a\n"
     ]
    }
   ],
   "source": [
    "row = \"Lambdadambda\"\n",
    "for i in range(len(row) - 1, -1, -2):\n",
    "    print(row[i])"
   ]
  },
  {
   "cell_type": "markdown",
   "id": "1c732041",
   "metadata": {},
   "source": [
    "**Вывести длину данной строки.**"
   ]
  },
  {
   "cell_type": "code",
   "execution_count": 7,
   "id": "fd2fb86c",
   "metadata": {},
   "outputs": [
    {
     "name": "stdout",
     "output_type": "stream",
     "text": [
      "12\n"
     ]
    }
   ],
   "source": [
    "row = \"Lambdadambda\"\n",
    "print(len(row))"
   ]
  }
 ],
 "metadata": {
  "kernelspec": {
   "display_name": "Python 3.10.5 64-bit",
   "language": "python",
   "name": "python3"
  },
  "language_info": {
   "codemirror_mode": {
    "name": "ipython",
    "version": 3
   },
   "file_extension": ".py",
   "mimetype": "text/x-python",
   "name": "python",
   "nbconvert_exporter": "python",
   "pygments_lexer": "ipython3",
   "version": "3.10.5"
  },
  "vscode": {
   "interpreter": {
    "hash": "40b4ff9a41ee15b03a73e6d6d10e4ac1fea08d6d6ad1a1338ddc2d3a451bcc6f"
   }
  }
 },
 "nbformat": 4,
 "nbformat_minor": 5
}
