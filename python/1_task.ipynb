{
 "cells": [
  {
   "cell_type": "markdown",
   "id": "caec52ff",
   "metadata": {},
   "source": [
    "# Самостоятельное задание\n",
    "\n",
    "Мы предлагаем вам потренироваться c логическими и побитовыми операторами."
   ]
  },
  {
   "cell_type": "code",
   "execution_count": 3,
   "id": "7fe7e97e",
   "metadata": {},
   "outputs": [
    {
     "name": "stdout",
     "output_type": "stream",
     "text": [
      "1. False\n",
      "2. False\n",
      "3. True\n",
      "4. False\n",
      "5. False\n",
      "6. 4\n",
      "7. 0\n",
      "8. 1\n",
      "9. 2\n"
     ]
    }
   ],
   "source": [
    "a = True\n",
    "\n",
    "b = False\n",
    "\n",
    "print(\"1.\", a and b)\n",
    "print(\"2.\", (a and b) or b)\n",
    "print(\"3.\", (a and b) or not (a and b))\n",
    "print(\"4.\", a and b or not (a or b) or b)\n",
    "print(\"5.\", b and b or not a and (a or b or a) or not (a or b))\n",
    "print(\"6.\", 1 << 2)\n",
    "print(\"7.\", 1 & 0 | 1 >> 1)\n",
    "print(\"8.\", 1 & 0 | 1 >> 0)\n",
    "print(\"9.\", 0b101 & 0b111 ^ 0b111 | 0b010)"
   ]
  },
  {
   "cell_type": "markdown",
   "id": "06c53579",
   "metadata": {},
   "source": [
    "**Решите:**\n",
    "\n",
    "1. a and b\n",
    "\n",
    "2. (a and b) or b\n",
    "\n",
    "3. (a and b) or not (a and b)\n",
    "\n",
    "4. a and b or not (a or b) or b\n",
    "\n",
    "5. b and b or not a and (a or b or a) or not (a or b)\n",
    "\n",
    "6. 1 << 2\n",
    "\n",
    "7. 1 & 0 | 1 >> 1\n",
    "\n",
    "8. 1 & 0 | 1 >> 0\n",
    "\n",
    "9. 0b101 & 0b111 ^ 0b111 | 0b010  Комментарий: \"0b101\" - запись числа \"5\" на языке Python в двоичном виде "
   ]
  }
 ],
 "metadata": {
  "kernelspec": {
   "display_name": "Python 3.10.5 64-bit",
   "language": "python",
   "name": "python3"
  },
  "language_info": {
   "codemirror_mode": {
    "name": "ipython",
    "version": 3
   },
   "file_extension": ".py",
   "mimetype": "text/x-python",
   "name": "python",
   "nbconvert_exporter": "python",
   "pygments_lexer": "ipython3",
   "version": "3.10.5"
  },
  "vscode": {
   "interpreter": {
    "hash": "40b4ff9a41ee15b03a73e6d6d10e4ac1fea08d6d6ad1a1338ddc2d3a451bcc6f"
   }
  }
 },
 "nbformat": 4,
 "nbformat_minor": 5
}
